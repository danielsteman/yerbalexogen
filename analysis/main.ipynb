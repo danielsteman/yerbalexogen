{
 "cells": [
  {
   "cell_type": "code",
   "execution_count": null,
   "metadata": {},
   "outputs": [],
   "source": [
    "import sqlite3\n",
    "import pandas as pd\n",
    "import json\n",
    "\n",
    "cnx = sqlite3.connect('../backend/fitbit_app.db')\n",
    "\n",
    "df = pd.read_sql_query(\"SELECT * FROM hrvminute\", cnx)"
   ]
  },
  {
   "cell_type": "code",
   "execution_count": null,
   "metadata": {},
   "outputs": [],
   "source": [
    "df[\"minute\"] = pd.to_datetime(df.minute, format=\"%Y-%m-%dT%H:%M:%S.%f\")"
   ]
  },
  {
   "cell_type": "code",
   "execution_count": null,
   "metadata": {},
   "outputs": [],
   "source": [
    "unique_dates = df.minute.dt.strftime('%d-%m-%y').unique()\n",
    "f\"Number of days in dataset: {len(unique_dates)}\""
   ]
  },
  {
   "cell_type": "code",
   "execution_count": null,
   "metadata": {},
   "outputs": [],
   "source": [
    "df[\"value\"].replace(\"\\'\", \"\\\"\")\n",
    "df[\"rmssd\"] = df[\"value\"].apply(lambda x: json.loads(x.replace(\"\\'\", \"\\\"\"))[\"rmssd\"])\n",
    "df[\"coverage\"] = df[\"value\"].apply(lambda x: json.loads(x.replace(\"\\'\", \"\\\"\"))[\"coverage\"])\n",
    "df[\"hf\"] = df[\"value\"].apply(lambda x: json.loads(x.replace(\"\\'\", \"\\\"\"))[\"hf\"])"
   ]
  },
  {
   "cell_type": "code",
   "execution_count": null,
   "metadata": {},
   "outputs": [],
   "source": [
    "import matplotlib.pyplot as plt # Impot the relevant module\n",
    "\n",
    "def plot(y: str):\n",
    "    fig, ax = plt.subplots() # Create the figure and axes object\n",
    "    return df.plot(x = 'minute', y =y, ax = ax)"
   ]
  },
  {
   "cell_type": "code",
   "execution_count": null,
   "metadata": {},
   "outputs": [],
   "source": []
  }
 ],
 "metadata": {
  "kernelspec": {
   "display_name": ".venv",
   "language": "python",
   "name": "python3"
  },
  "language_info": {
   "codemirror_mode": {
    "name": "ipython",
    "version": 3
   },
   "file_extension": ".py",
   "mimetype": "text/x-python",
   "name": "python",
   "nbconvert_exporter": "python",
   "pygments_lexer": "ipython3",
   "version": "3.10.2"
  }
 },
 "nbformat": 4,
 "nbformat_minor": 2
}
